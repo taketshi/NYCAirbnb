{
 "cells": [
  {
   "cell_type": "code",
   "execution_count": 1,
   "metadata": {},
   "outputs": [],
   "source": [
    "import pandas as pd\n",
    "import numpy as np\n",
    "import matplotlib.pyplot as plt\n",
    "import seaborn as sns"
   ]
  },
  {
   "cell_type": "markdown",
   "metadata": {},
   "source": [
    "## Group all datasets"
   ]
  },
  {
   "cell_type": "code",
   "execution_count": 2,
   "metadata": {},
   "outputs": [
    {
     "name": "stdout",
     "output_type": "stream",
     "text": [
      "(25209, 7)\n"
     ]
    },
    {
     "data": {
      "text/html": [
       "<div>\n",
       "<style scoped>\n",
       "    .dataframe tbody tr th:only-of-type {\n",
       "        vertical-align: middle;\n",
       "    }\n",
       "\n",
       "    .dataframe tbody tr th {\n",
       "        vertical-align: top;\n",
       "    }\n",
       "\n",
       "    .dataframe thead th {\n",
       "        text-align: right;\n",
       "    }\n",
       "</style>\n",
       "<table border=\"1\" class=\"dataframe\">\n",
       "  <thead>\n",
       "    <tr style=\"text-align: right;\">\n",
       "      <th></th>\n",
       "      <th>listing_id</th>\n",
       "      <th>host_name</th>\n",
       "      <th>last_review</th>\n",
       "      <th>description</th>\n",
       "      <th>room_type</th>\n",
       "      <th>price</th>\n",
       "      <th>nbhood_full</th>\n",
       "    </tr>\n",
       "  </thead>\n",
       "  <tbody>\n",
       "    <tr>\n",
       "      <th>0</th>\n",
       "      <td>2595</td>\n",
       "      <td>Jennifer</td>\n",
       "      <td>May 21 2019</td>\n",
       "      <td>Skylit Midtown Castle</td>\n",
       "      <td>Entire home/apt</td>\n",
       "      <td>225 dollars</td>\n",
       "      <td>Manhattan, Midtown</td>\n",
       "    </tr>\n",
       "    <tr>\n",
       "      <th>1</th>\n",
       "      <td>3831</td>\n",
       "      <td>LisaRoxanne</td>\n",
       "      <td>July 05 2019</td>\n",
       "      <td>Cozy Entire Floor of Brownstone</td>\n",
       "      <td>Entire home/apt</td>\n",
       "      <td>89 dollars</td>\n",
       "      <td>Brooklyn, Clinton Hill</td>\n",
       "    </tr>\n",
       "    <tr>\n",
       "      <th>2</th>\n",
       "      <td>5099</td>\n",
       "      <td>Chris</td>\n",
       "      <td>June 22 2019</td>\n",
       "      <td>Large Cozy 1 BR Apartment In Midtown East</td>\n",
       "      <td>Entire home/apt</td>\n",
       "      <td>200 dollars</td>\n",
       "      <td>Manhattan, Murray Hill</td>\n",
       "    </tr>\n",
       "    <tr>\n",
       "      <th>3</th>\n",
       "      <td>5178</td>\n",
       "      <td>Shunichi</td>\n",
       "      <td>June 24 2019</td>\n",
       "      <td>Large Furnished Room Near B'way</td>\n",
       "      <td>private room</td>\n",
       "      <td>79 dollars</td>\n",
       "      <td>Manhattan, Hell's Kitchen</td>\n",
       "    </tr>\n",
       "    <tr>\n",
       "      <th>4</th>\n",
       "      <td>5238</td>\n",
       "      <td>Ben</td>\n",
       "      <td>June 09 2019</td>\n",
       "      <td>Cute &amp; Cozy Lower East Side 1 bdrm</td>\n",
       "      <td>Entire home/apt</td>\n",
       "      <td>150 dollars</td>\n",
       "      <td>Manhattan, Chinatown</td>\n",
       "    </tr>\n",
       "  </tbody>\n",
       "</table>\n",
       "</div>"
      ],
      "text/plain": [
       "   listing_id    host_name   last_review  \\\n",
       "0        2595     Jennifer   May 21 2019   \n",
       "1        3831  LisaRoxanne  July 05 2019   \n",
       "2        5099        Chris  June 22 2019   \n",
       "3        5178     Shunichi  June 24 2019   \n",
       "4        5238          Ben  June 09 2019   \n",
       "\n",
       "                                 description        room_type        price  \\\n",
       "0                      Skylit Midtown Castle  Entire home/apt  225 dollars   \n",
       "1            Cozy Entire Floor of Brownstone  Entire home/apt   89 dollars   \n",
       "2  Large Cozy 1 BR Apartment In Midtown East  Entire home/apt  200 dollars   \n",
       "3            Large Furnished Room Near B'way     private room   79 dollars   \n",
       "4         Cute & Cozy Lower East Side 1 bdrm  Entire home/apt  150 dollars   \n",
       "\n",
       "                 nbhood_full  \n",
       "0         Manhattan, Midtown  \n",
       "1     Brooklyn, Clinton Hill  \n",
       "2     Manhattan, Murray Hill  \n",
       "3  Manhattan, Hell's Kitchen  \n",
       "4       Manhattan, Chinatown  "
      ]
     },
     "metadata": {},
     "output_type": "display_data"
    },
    {
     "name": "stdout",
     "output_type": "stream",
     "text": [
      "<class 'pandas.core.frame.DataFrame'>\n",
      "Int64Index: 25209 entries, 0 to 25208\n",
      "Data columns (total 7 columns):\n",
      " #   Column       Non-Null Count  Dtype \n",
      "---  ------       --------------  ----- \n",
      " 0   listing_id   25209 non-null  int64 \n",
      " 1   host_name    25201 non-null  object\n",
      " 2   last_review  25209 non-null  object\n",
      " 3   description  25199 non-null  object\n",
      " 4   room_type    25209 non-null  object\n",
      " 5   price        25209 non-null  object\n",
      " 6   nbhood_full  25209 non-null  object\n",
      "dtypes: int64(1), object(6)\n",
      "memory usage: 1.5+ MB\n",
      "None\n"
     ]
    }
   ],
   "source": [
    "reviews = pd.read_csv('airbnb_last_review.tsv', delimiter = '\\t')\n",
    "types = pd.read_excel('airbnb_room_type.xlsx', sheet_name = 'airbnb_room_type')\n",
    "price = pd.read_csv('airbnb_price.csv')\n",
    "\n",
    "data = pd.merge(pd.merge(reviews, types, on = 'listing_id'), price, on = 'listing_id')\n",
    "print(data.shape)\n",
    "\n",
    "display(data.head())\n",
    "\n",
    "print(data.info())\n",
    "\n"
   ]
  },
  {
   "cell_type": "markdown",
   "metadata": {},
   "source": [
    "## Data Cleaning"
   ]
  },
  {
   "cell_type": "markdown",
   "metadata": {},
   "source": [
    "### Missing values"
   ]
  },
  {
   "cell_type": "markdown",
   "metadata": {},
   "source": [
    "Filling the missing values of host_name and description with null values."
   ]
  },
  {
   "cell_type": "code",
   "execution_count": 3,
   "metadata": {},
   "outputs": [],
   "source": [
    "data['host_name'].fillna('null', inplace=True)\n",
    "data['description'].fillna('null', inplace=True)"
   ]
  },
  {
   "cell_type": "markdown",
   "metadata": {},
   "source": [
    "### nbhood_full and price"
   ]
  },
  {
   "cell_type": "markdown",
   "metadata": {},
   "source": [
    "Clean data with extra information"
   ]
  },
  {
   "cell_type": "code",
   "execution_count": 4,
   "metadata": {},
   "outputs": [],
   "source": [
    "# Separate nhbood_full into district and nbhood\n",
    "data['district'] = data['nbhood_full'].str.split(',').str[0]\n",
    "data['nbhood'] = data['nbhood_full'].str.split(',').str[1]\n",
    "\n",
    "# Clean price column\n",
    "data['price'] = data['price'].str.split(' ').str[0].astype(int)"
   ]
  },
  {
   "cell_type": "markdown",
   "metadata": {},
   "source": [
    "### room_type"
   ]
  },
  {
   "cell_type": "code",
   "execution_count": 5,
   "metadata": {},
   "outputs": [
    {
     "data": {
      "text/plain": [
       "array(['apt', 'room', 'shared'], dtype=object)"
      ]
     },
     "execution_count": 5,
     "metadata": {},
     "output_type": "execute_result"
    }
   ],
   "source": [
    "map = {'Entire home/apt' : 'apt',\n",
    "        'entire home/apt': 'apt',\n",
    "        'ENTIRE HOME/APT': 'apt',\n",
    "        'Private room' : 'room',\n",
    "        'private room' : 'room',\n",
    "        'PRIVATE ROOM' : 'room',\n",
    "        'Shared room' : 'shared',\n",
    "        'shared room' : 'shared',\n",
    "        'SHARED ROOM' : 'shared',}\n",
    "\n",
    "data['room_type'] = data['room_type'].replace(map)\n",
    "data['room_type'].unique()\n"
   ]
  },
  {
   "cell_type": "markdown",
   "metadata": {},
   "source": [
    "### Free Listings"
   ]
  },
  {
   "cell_type": "markdown",
   "metadata": {},
   "source": [
    "Some of these are marked as free. We need to remove them."
   ]
  },
  {
   "cell_type": "code",
   "execution_count": 6,
   "metadata": {},
   "outputs": [],
   "source": [
    "free_listings = data['price'] == 0\n",
    "data = data[~free_listings]"
   ]
  },
  {
   "cell_type": "markdown",
   "metadata": {},
   "source": [
    "## Feature Engineering"
   ]
  },
  {
   "cell_type": "markdown",
   "metadata": {},
   "source": [
    "### description"
   ]
  },
  {
   "cell_type": "markdown",
   "metadata": {},
   "source": [
    "For the description, there are many different ways of conveying how good is a room and a personalized classification system would be unthinkable. So since TfidfVectorizer already cleans the data by turning everything to lower case and separating by spaces and markers we just have to use the bag of words method."
   ]
  },
  {
   "cell_type": "code",
   "execution_count": 7,
   "metadata": {},
   "outputs": [],
   "source": [
    "from sklearn.feature_extraction.text import TfidfVectorizer\n",
    "\n",
    "data.reset_index(drop=True, inplace=True)\n",
    "\n",
    "# The description column is giving problems, so we'll turn everything to string\n",
    "data['description'] = data['description'].apply(lambda x: np.str_(x))\n",
    "\n",
    "# Vectorize\n",
    "vectorizer = TfidfVectorizer()\n",
    "bag_of_words = vectorizer.fit_transform(data['description'])\n",
    "bag_of_words_df = pd.DataFrame(bag_of_words.toarray(), columns=vectorizer.get_feature_names_out())\n"
   ]
  },
  {
   "cell_type": "code",
   "execution_count": 8,
   "metadata": {},
   "outputs": [],
   "source": [
    "# Check only those with high correlation with the price\n",
    "correlations = bag_of_words_df.corrwith(data['price'])\n",
    "\n",
    "good_words_index = correlations > 0.05\n",
    "good_words = list(correlations[good_words_index].index)\n",
    "\n",
    "data = pd.concat([data, bag_of_words_df[good_words]], axis=1)\n",
    "\n",
    "# It is taking 1GB of memory, so we'll clear it\n",
    "del bag_of_words_df, bag_of_words, correlations"
   ]
  },
  {
   "cell_type": "markdown",
   "metadata": {},
   "source": [
    "### last_review"
   ]
  },
  {
   "cell_type": "markdown",
   "metadata": {},
   "source": [
    "All of the apartments are from 2019, so we will only extract the month from the last review."
   ]
  },
  {
   "cell_type": "code",
   "execution_count": 9,
   "metadata": {},
   "outputs": [],
   "source": [
    "data['last_review_month'] = data['last_review'].str.split(' ').str[0].astype(str)"
   ]
  },
  {
   "cell_type": "markdown",
   "metadata": {},
   "source": [
    "### host_name"
   ]
  },
  {
   "cell_type": "markdown",
   "metadata": {},
   "source": [
    "Moreover, we'll categorize the names by female, male, and undetermined."
   ]
  },
  {
   "cell_type": "code",
   "execution_count": 10,
   "metadata": {},
   "outputs": [],
   "source": [
    "import gender_guesser.detector as gender\n",
    "\n",
    "guesser = gender.Detector()\n",
    "\n",
    "map_gender = {'male':'Male',\n",
    "                'mostly_male':'Male',\n",
    "                'female':'Female',\n",
    "                'mostly_female':'Female',\n",
    "                'andy':'Undetermined',\n",
    "                'unknown':'Undetermined'}\n",
    "# Guess genders\n",
    "data['gender'] = data['host_name'].apply(lambda name: guesser.get_gender(name))\n",
    "\n",
    "# Collapse the categories\n",
    "data['gender'].replace(map_gender, inplace = True)"
   ]
  },
  {
   "cell_type": "markdown",
   "metadata": {},
   "source": [
    "### Remove Columns"
   ]
  },
  {
   "cell_type": "markdown",
   "metadata": {},
   "source": [
    "Finally, consider only columns we want. We'll drop:\n",
    "- listing_id, host_name, last_review, description\n",
    "\n",
    "since they were modified or have small correlation with the price"
   ]
  },
  {
   "cell_type": "code",
   "execution_count": 11,
   "metadata": {},
   "outputs": [],
   "source": [
    "data.drop(columns = ['listing_id', 'host_name', 'last_review', 'description'], axis = 1, inplace = True)"
   ]
  },
  {
   "cell_type": "markdown",
   "metadata": {},
   "source": [
    "## Analysis"
   ]
  },
  {
   "cell_type": "markdown",
   "metadata": {},
   "source": [
    "We'll first take a look at an the overall NYC prices. The mean is around 140 while the median is 105. As we'll see later, there are a lot of outliers, which explain this difference between mean and median."
   ]
  },
  {
   "cell_type": "code",
   "execution_count": 12,
   "metadata": {},
   "outputs": [
    {
     "name": "stdout",
     "output_type": "stream",
     "text": [
      "The mean price of an Airbnb in NYC is:  141.81731608602493\n",
      "The median price of an Airbnb in NYC is:  105.0\n"
     ]
    }
   ],
   "source": [
    "price_mean = data['price'].mean()\n",
    "price_median = data['price'].median()\n",
    "\n",
    "print('The mean price of an Airbnb in NYC is: ', price_mean)\n",
    "print('The median price of an Airbnb in NYC is: ', price_median)"
   ]
  },
  {
   "cell_type": "markdown",
   "metadata": {},
   "source": [
    "According to Zumper website, the average monthly rent in NYC is $3,987."
   ]
  },
  {
   "cell_type": "code",
   "execution_count": 13,
   "metadata": {},
   "outputs": [
    {
     "name": "stdout",
     "output_type": "stream",
     "text": [
      "The monthly average price of the Airbnb is:  4313.610030949925\n",
      "The monthly median price of the Airbnb is:  3193.75\n"
     ]
    }
   ],
   "source": [
    "print('The monthly average price of the Airbnb is: ', price_mean * 365 / 12)\n",
    "print('The monthly median price of the Airbnb is: ', price_median * 365 / 12)"
   ]
  },
  {
   "cell_type": "markdown",
   "metadata": {},
   "source": [
    "### Price by borough"
   ]
  },
  {
   "cell_type": "markdown",
   "metadata": {},
   "source": [
    "We'll start by analyzing which districts are the most expensive. Some houses have exorbitant prices which represent outliers. We'll consider a plot without them"
   ]
  },
  {
   "cell_type": "code",
   "execution_count": 14,
   "metadata": {},
   "outputs": [
    {
     "data": {
      "image/png": "[encoded data removed]",
      "text/plain": [
       "<Figure size 640x480 with 1 Axes>"
      ]
     },
     "metadata": {},
     "output_type": "display_data"
    }
   ],
   "source": [
    "sns.boxplot(data = data, x = 'district', y = 'price', showfliers = False)\n",
    "plt.xlabel('Borough')\n",
    "plt.ylabel('Price')\n",
    "plt.title('Price by Borough')\n",
    "plt.show()"
   ]
  },
  {
   "cell_type": "markdown",
   "metadata": {},
   "source": [
    "From most to least expensive we have:\n",
    "1. Manhattan\n",
    "2. Brooklyn\n",
    "3. Queens\n",
    "4. Staten Island\n",
    "5. Bronx\n",
    "\n",
    "Aside from being some of the most expensive, Manhattan and Brooklyn have also the most outliers and where the prices tend to vary most."
   ]
  },
  {
   "cell_type": "code",
   "execution_count": 15,
   "metadata": {},
   "outputs": [
    {
     "data": {
      "text/html": [
       "<div>\n",
       "<style scoped>\n",
       "    .dataframe tbody tr th:only-of-type {\n",
       "        vertical-align: middle;\n",
       "    }\n",
       "\n",
       "    .dataframe tbody tr th {\n",
       "        vertical-align: top;\n",
       "    }\n",
       "\n",
       "    .dataframe thead th {\n",
       "        text-align: right;\n",
       "    }\n",
       "</style>\n",
       "<table border=\"1\" class=\"dataframe\">\n",
       "  <thead>\n",
       "    <tr style=\"text-align: right;\">\n",
       "      <th></th>\n",
       "      <th>count_outliers</th>\n",
       "      <th>std</th>\n",
       "    </tr>\n",
       "    <tr>\n",
       "      <th>district</th>\n",
       "      <th></th>\n",
       "      <th></th>\n",
       "    </tr>\n",
       "  </thead>\n",
       "  <tbody>\n",
       "    <tr>\n",
       "      <th>Bronx</th>\n",
       "      <td>34</td>\n",
       "      <td>58.051225</td>\n",
       "    </tr>\n",
       "    <tr>\n",
       "      <th>Brooklyn</th>\n",
       "      <td>526</td>\n",
       "      <td>123.958970</td>\n",
       "    </tr>\n",
       "    <tr>\n",
       "      <th>Manhattan</th>\n",
       "      <td>689</td>\n",
       "      <td>178.181024</td>\n",
       "    </tr>\n",
       "    <tr>\n",
       "      <th>Queens</th>\n",
       "      <td>249</td>\n",
       "      <td>78.514658</td>\n",
       "    </tr>\n",
       "    <tr>\n",
       "      <th>Staten Island</th>\n",
       "      <td>17</td>\n",
       "      <td>54.624606</td>\n",
       "    </tr>\n",
       "  </tbody>\n",
       "</table>\n",
       "</div>"
      ],
      "text/plain": [
       "               count_outliers         std\n",
       "district                                 \n",
       "Bronx                      34   58.051225\n",
       "Brooklyn                  526  123.958970\n",
       "Manhattan                 689  178.181024\n",
       "Queens                    249   78.514658\n",
       "Staten Island              17   54.624606"
      ]
     },
     "metadata": {},
     "output_type": "display_data"
    }
   ],
   "source": [
    "def count_outliers(values):\n",
    "    \"\"\"\n",
    "    Count the number of outliers in a column of a dataframe.\n",
    "    \"\"\"\n",
    "    q1 = values.quantile(0.25)\n",
    "    q3 = values.quantile(0.75)\n",
    "    iqr = q3 - q1\n",
    "    outliers = values[(values < (q1 - 1.5 * iqr)) | (values > (q3 + 1.5 * iqr))]\n",
    "    return outliers.shape[0]\n",
    "\n",
    "n_outliers = data.groupby('district')['price'].agg([count_outliers, np.std])\n",
    "display(n_outliers)"
   ]
  },
  {
   "cell_type": "markdown",
   "metadata": {},
   "source": [
    "### Gender impact\n",
    "\n",
    "We can also evaluate how does gender affect one's preference to rent a room in airbnb. \n",
    "\n",
    "*Note: since name and gender is not always related and have a subjective component for which the methods used to guess gender by names does not always account for. Hence, it must not be taken too seriously.*\n",
    "\n",
    "We can see that overall female have more or almost equal AirBnb housing than men, with the exception of Manhattan where male hosts are predominant. "
   ]
  },
  {
   "cell_type": "code",
   "execution_count": 16,
   "metadata": {},
   "outputs": [
    {
     "data": {
      "image/png": "[encoded data removed]",
      "text/plain": [
       "<Figure size 1000x500 with 2 Axes>"
      ]
     },
     "metadata": {},
     "output_type": "display_data"
    }
   ],
   "source": [
    "fig, ax = plt.subplots(1, 2, figsize = (10, 5))\n",
    "\n",
    "\n",
    "sns.countplot(data = data, x = 'gender', ax = ax[0])\n",
    "ax[0].set_title('Number of housing by gender')\n",
    "ax[0].set_xlabel('Gender')\n",
    "ax[0].set_ylabel('Count')\n",
    "\n",
    "sns.countplot(data = data, x = 'district', hue = 'gender', ax = ax[1])\n",
    "ax[1].set_title('Number of housing by gender and borough')\n",
    "ax[1].tick_params(axis = 'x', labelrotation=45)\n",
    "ax[1].set_xlabel('Borough')\n",
    "ax[1].set_ylabel('Count')\n",
    "plt.show()\n"
   ]
  },
  {
   "cell_type": "markdown",
   "metadata": {},
   "source": [
    "Regarding price, it does not seem that any gender has any particular bias for higher pricing."
   ]
  },
  {
   "cell_type": "code",
   "execution_count": 17,
   "metadata": {},
   "outputs": [
    {
     "data": {
      "image/png": "[encoded data removed]",
      "text/plain": [
       "<Figure size 500x500 with 1 Axes>"
      ]
     },
     "metadata": {},
     "output_type": "display_data"
    }
   ],
   "source": [
    "fig, ax = plt.subplots(figsize = (5, 5))\n",
    "\n",
    "sns.boxplot(data = data, x = 'gender', y = 'price', showfliers = False)\n",
    "ax.set_xlabel('Gender')\n",
    "ax.set_ylabel('Price')\n",
    "\n",
    "plt.show()"
   ]
  },
  {
   "cell_type": "markdown",
   "metadata": {},
   "source": [
    "### Price by type"
   ]
  },
  {
   "cell_type": "markdown",
   "metadata": {},
   "source": [
    "The prices seem to follow the trends previously seen. We also see that, as expected, apartments are the most expensive, followed by private rooms and then shared ones. However, as we can see in the box plot, there are shared rooms in Manhatann that are the same price as apartments in the Bronx."
   ]
  },
  {
   "cell_type": "code",
   "execution_count": 18,
   "metadata": {},
   "outputs": [
    {
     "data": {
      "image/png": "[encoded data removed]",
      "text/plain": [
       "<Figure size 640x480 with 1 Axes>"
      ]
     },
     "metadata": {},
     "output_type": "display_data"
    }
   ],
   "source": [
    "g = sns.boxplot(data = data, x = 'district', y = 'price', hue = 'room_type', showfliers = False)\n",
    "\n",
    "g.set_title('Price by district and room type')\n",
    "g.set_xlabel('District')\n",
    "g.set_ylabel('Price')\n",
    "\n",
    "handles, labels = g.get_legend_handles_labels()\n",
    "\n",
    "g.legend(handles = handles, \n",
    "        labels = ['Apartment', 'Private room', 'Shared room'], \n",
    "        title = 'Room type')\n",
    "\n",
    "plt.show()"
   ]
  },
  {
   "cell_type": "markdown",
   "metadata": {},
   "source": [
    "### Location plot"
   ]
  },
  {
   "cell_type": "markdown",
   "metadata": {},
   "source": [
    "We're using Nominatim in the geopy library to get coordinates of places. However there were a few instances where it couldn't do it, but since they were not much, I just hand searched them on google maps. It is saved under 'geocoordinates.json'."
   ]
  },
  {
   "cell_type": "code",
   "execution_count": 19,
   "metadata": {},
   "outputs": [],
   "source": [
    "####### This code is for saving the geolocation in a dictionary\n",
    "\n",
    "# from geopy.geocoders import Nominatim\n",
    "\n",
    "# # Encode names into coordinates\n",
    "# geolocator = Nominatim(user_agent=\"your_app_name\")\n",
    "# geolocation = {}\n",
    "\n",
    "# for place in data['nbhood_full'].unique():\n",
    "#     count = 0\n",
    "#     while place not in geolocation.keys():\n",
    "#         if count == 5:\n",
    "#             break\n",
    "#         count += 1\n",
    "#         print(place)\n",
    "#         try:\n",
    "#             geo = geolocator.geocode(place)\n",
    "#             geolocation[place] = (geo.latitude, geo.longitude)\n",
    "#         except:\n",
    "#             continue\n",
    "\n",
    "# # The ones left are the following \n",
    "\n",
    "# # {'Bronx, Claremont Village',\n",
    "# #  'Bronx, North Riverdale',\n",
    "# #  'Queens, Jamaica Hills',\n",
    "# #  \"Staten Island, Bull's Head\",\n",
    "# #  'Staten Island, Lighthouse Hill',\n",
    "# #  'Staten Island, Randall Manor'}\n",
    "\n",
    "# missing = set(data['nbhood_full'].unique()) - set(geolocation.keys())\n",
    "\n",
    "# geolocation['Bronx, Claremont Village'] = (40.8334, -73.9005)\n",
    "# geolocation['Bronx, North Riverdale'] = (40.9036, -73.9055)\n",
    "# geolocation['Queens, Jamaica Hills'] = (40.7128, -73.7970)\n",
    "# geolocation[\"Staten Island, Bull's Head\"] = (40.6082, -74.1550)\n",
    "# geolocation['Staten Island, Lighthouse Hill'] = (40.6012, -74.1357)\n",
    "# geolocation['Staten Island, Randall Manor'] = (40.6376, -74.1044)\n",
    "\n",
    "# # These were retrieved but are not correct\n",
    "\n",
    "# geolocation['Queens, Bay Terrace'] = (40.7756, -73.7797)\n",
    "# geolocation['Bronx, West Farms'] = (40.8433, -73.8811)\n",
    "\n",
    "\n",
    "\n",
    "# import json\n",
    "\n",
    "# # Specify the file path\n",
    "# file_path = 'geocoordinates.json'\n",
    "\n",
    "# # Write the dictionary to the JSON file\n",
    "# with open(file_path, 'w') as file:\n",
    "#     json.dump(geolocation, file)\n",
    "\n",
    "#########################################################################################################\n",
    "\n",
    "####### This code is for loading the geolocation from a dictionary\n",
    "import json\n",
    "\n",
    "file_path = 'geocoordinates.json'\n",
    "with open(file_path, 'r') as file:\n",
    "    geolocation = json.load(file)"
   ]
  },
  {
   "cell_type": "code",
   "execution_count": 20,
   "metadata": {},
   "outputs": [],
   "source": [
    "# Get latiture and longitude\n",
    "data['coordinates'] = data['nbhood_full'].apply(lambda x: geolocation[x])\n",
    "data['latitude'] = data['coordinates'].apply(lambda x: x[0])\n",
    "data['longitude'] = data['coordinates'].apply(lambda x: x[1])"
   ]
  },
  {
   "cell_type": "markdown",
   "metadata": {},
   "source": [
    "Now, we plot the coordinates and we should see the city of New York. Let's, however, plot it without outliers."
   ]
  },
  {
   "cell_type": "code",
   "execution_count": 21,
   "metadata": {},
   "outputs": [
    {
     "data": {
      "image/png": "[encoded data removed]",
      "text/plain": [
       "<Figure size 640x480 with 1 Axes>"
      ]
     },
     "metadata": {},
     "output_type": "display_data"
    }
   ],
   "source": [
    "# Calculate outliers \n",
    "q1 = data['price'].quantile(0.25)\n",
    "q3 = data['price'].quantile(0.75)\n",
    "iqr = q3 - q1\n",
    "\n",
    "outliers = data[data['price'] > q3 + 1.5*iqr]\n",
    "outliers_lat = outliers['latitude']\n",
    "outliers_lon = outliers['longitude']\n",
    "\n",
    "data['price_capped'] = data['price'].apply(lambda x: q3 + 1.5*iqr if x > q3 + 1.5*iqr else x)\n",
    "    \n",
    "# Plot\n",
    "g = sns.scatterplot(data = data, x = 'latitude', y = 'longitude', hue = 'price_capped', alpha = 0.15)\n",
    "g.scatter(outliers_lat, outliers_lon, c = 'red', alpha = 0.6, s = 1, label = 'Outliers')\n",
    "g.set_title('Price by location')\n",
    "g.set_xlabel('Latitude')\n",
    "g.set_ylabel('Longitude')\n",
    "g.legend(title = 'Price')\n",
    "\n",
    "plt.show()"
   ]
  },
  {
   "cell_type": "markdown",
   "metadata": {},
   "source": [
    "## Predicting prices"
   ]
  },
  {
   "cell_type": "markdown",
   "metadata": {},
   "source": [
    "We will try and predict prices according to our features. Here's the treatment that will follow:\n",
    "- room_type: Ordinal encoding, since there is an order of 'quality'\n",
    "- price_capped: We're choosing these as a label instead of the original prices since the price depends strongly on the particularities of the apartment\n",
    "- nbhood_full: Drop\n",
    "- district, nbhood: One Hot Encode\n",
    "- last_review_month: One Hot Encode\n",
    "- gender: One Hot Encode\n",
    "- coordinates: drop since we'll have longitude and latitude\n",
    "- price_capped: drop\n"
   ]
  },
  {
   "cell_type": "code",
   "execution_count": 22,
   "metadata": {},
   "outputs": [],
   "source": [
    "from sklearn.preprocessing import StandardScaler, OneHotEncoder, OrdinalEncoder\n",
    "from sklearn.compose import ColumnTransformer\n",
    "from sklearn.pipeline import Pipeline\n",
    "from sklearn.model_selection import train_test_split, cross_val_score\n",
    "from sklearn.metrics import mean_squared_error"
   ]
  },
  {
   "cell_type": "markdown",
   "metadata": {},
   "source": [
    "### Processing"
   ]
  },
  {
   "cell_type": "code",
   "execution_count": 23,
   "metadata": {},
   "outputs": [],
   "source": [
    "cols_to_drop = ['price', 'price_capped', 'nbhood_full', 'coordinates']\n",
    "X = data.drop(cols_to_drop, axis = 1)\n",
    "y = data['price_capped']"
   ]
  },
  {
   "cell_type": "code",
   "execution_count": 24,
   "metadata": {},
   "outputs": [],
   "source": [
    "cols_one_hot = ['nbhood', 'district', 'last_review_month', 'gender']\n",
    "cols_ordinal = ['room_type']\n",
    "cols_scaler = ['latitude', 'longitude']\n",
    "\n",
    "onehot = OneHotEncoder()\n",
    "ordinal = OrdinalEncoder(categories = [['apt', 'room', 'shared']])\n",
    "scaler = StandardScaler()\n",
    "\n",
    "transformer = ColumnTransformer([ \n",
    "    ('onehot', onehot, cols_one_hot),\n",
    "    ('ordinal', ordinal, cols_ordinal),\n",
    "    ('scaler', scaler, cols_scaler)\n",
    "], remainder='passthrough')\n",
    "\n",
    "# The result is a sparse matrix, which we'll turn to a DataFrame\n",
    "X_trans_sparse = transformer.fit_transform(X)\n",
    "\n",
    "from scipy.sparse import csr_matrix\n",
    "\n",
    "X_trans_array = X_trans_sparse.toarray()\n",
    "X_trans = pd.DataFrame(X_trans_array)\n"
   ]
  },
  {
   "cell_type": "markdown",
   "metadata": {},
   "source": [
    "### Separate test from train"
   ]
  },
  {
   "cell_type": "code",
   "execution_count": 25,
   "metadata": {},
   "outputs": [],
   "source": [
    "X_train, X_test, y_train, y_test = train_test_split(X_trans, y, test_size=0.2, random_state=42)"
   ]
  },
  {
   "cell_type": "markdown",
   "metadata": {},
   "source": [
    "- SCORE: We will use RMSE since it gives essentially the same weight to the differences\n",
    "- BASELINE: Linear Regression for: Explainability, Simplicity, Efficiency, Speed\n",
    "- MODEL: Random Forest for: Complexity and Simplicity, Ability to capture non-linear trends, Speed, Explainability"
   ]
  },
  {
   "cell_type": "markdown",
   "metadata": {},
   "source": [
    "### Baseline"
   ]
  },
  {
   "cell_type": "code",
   "execution_count": 26,
   "metadata": {},
   "outputs": [
    {
     "name": "stdout",
     "output_type": "stream",
     "text": [
      "Linear Regression RMSE Scores:  [4.38027243e+11 2.04762165e+11 8.25331501e+11 1.78671294e+11\n",
      " 1.59540999e+12]\n",
      "Linear Regression RMSE:  648440439122.5886\n"
     ]
    }
   ],
   "source": [
    "from sklearn.linear_model import LinearRegression\n",
    "\n",
    "linear = LinearRegression()\n",
    "\n",
    "linear_scores = cross_val_score(linear, X_train, y_train, cv=5, scoring='neg_mean_squared_error')\n",
    "linear_rmse_scores = np.sqrt(-linear_scores)\n",
    "linear_score_mean = linear_rmse_scores.mean()\n",
    "\n",
    "print('Linear Regression RMSE Scores: ', linear_rmse_scores)\n",
    "print('Linear Regression RMSE: ', linear_score_mean)"
   ]
  },
  {
   "cell_type": "markdown",
   "metadata": {},
   "source": [
    "### Model"
   ]
  },
  {
   "cell_type": "markdown",
   "metadata": {},
   "source": [
    "### Random Forest"
   ]
  },
  {
   "cell_type": "code",
   "execution_count": 27,
   "metadata": {},
   "outputs": [
    {
     "name": "stdout",
     "output_type": "stream",
     "text": [
      "Random Forest Regressor RMSE Scores:  [56.86708678 56.58782888 56.03323326 55.69652944 54.97761301]\n",
      "Random Forest Regressor RMSE:  56.0324582715063\n"
     ]
    }
   ],
   "source": [
    "from sklearn.ensemble import RandomForestRegressor\n",
    "\n",
    "forest = RandomForestRegressor(n_estimators=100, random_state=42)\n",
    "\n",
    "forest_scores = cross_val_score(forest, X_train, y_train, cv = 5, scoring = \"neg_mean_squared_error\")\n",
    "forest_rmse_scores = np.sqrt(-forest_scores)\n",
    "forest_scores_mean = forest_rmse_scores.mean()\n",
    "\n",
    "print(\"Random Forest Regressor RMSE Scores: \", forest_rmse_scores)\n",
    "print(\"Random Forest Regressor RMSE: \", forest_scores_mean)\n"
   ]
  },
  {
   "cell_type": "markdown",
   "metadata": {},
   "source": [
    "### Suport Vector"
   ]
  },
  {
   "cell_type": "code",
   "execution_count": 28,
   "metadata": {},
   "outputs": [
    {
     "name": "stdout",
     "output_type": "stream",
     "text": [
      "SVR RMSE Scores:  [61.6161233  60.66350674 57.86922226 59.09398327 58.75017677]\n",
      "SVR RMSE:  59.59860246674208\n"
     ]
    }
   ],
   "source": [
    "from sklearn.svm import SVR\n",
    "\n",
    "svr = SVR(C = 1, gamma = 0.1, kernel = 'rbf')\n",
    "\n",
    "svr_scores = cross_val_score(svr, X_train, y_train, cv=5, scoring = 'neg_mean_squared_error')\n",
    "svr_rmse_scores = np.sqrt(-svr_scores)\n",
    "svr_scores_mean = svr_rmse_scores.mean()\n",
    "\n",
    "print('SVR RMSE Scores: ', svr_rmse_scores)\n",
    "print('SVR RMSE: ', svr_scores_mean)"
   ]
  },
  {
   "cell_type": "markdown",
   "metadata": {},
   "source": [
    "## TESTING"
   ]
  },
  {
   "cell_type": "code",
   "execution_count": 29,
   "metadata": {},
   "outputs": [
    {
     "name": "stdout",
     "output_type": "stream",
     "text": [
      "Testing Linear Regression RMSE:  176036054825.76764\n",
      "Testing Linear Regression R2:  -0.0005457147467244905\n",
      "\n",
      "Testing Random Forest RMSE:  54.90601083872524\n",
      "Testing Random Forest R2:  0.3185631388891943\n",
      "\n",
      "Testing SVR RMSE:  59.144074940271125\n",
      "Testing SVR R2:  -0.49148911775610316\n"
     ]
    }
   ],
   "source": [
    "from sklearn.metrics import r2_score\n",
    "\n",
    "linear.fit(X_train, y_train)\n",
    "predicted_linear = linear.predict(X_test)\n",
    "test_scores_linear = mean_squared_error(y_test, predicted_linear, squared=False)\n",
    "test_r2scores_linear = r2_score(predicted_linear, y_test)\n",
    "print('Testing Linear Regression RMSE: ', test_scores_linear)\n",
    "print('Testing Linear Regression R2: ', test_r2scores_linear)\n",
    "\n",
    "forest.fit(X_train, y_train)\n",
    "predicted_forest = forest.predict(X_test)\n",
    "test_scores_forest = mean_squared_error(y_test, predicted_forest, squared=False)\n",
    "test_r2scores_forest = r2_score(predicted_forest, y_test)\n",
    "print('\\nTesting Random Forest RMSE: ', test_scores_forest)\n",
    "print('Testing Random Forest R2: ', test_r2scores_forest)\n",
    "\n",
    "svr.fit(X_train, y_train)\n",
    "predicted_svr = svr.predict(X_test)\n",
    "test_scores_svr = mean_squared_error(y_test, predicted_svr, squared=False)\n",
    "test_r2scores_svr = r2_score(predicted_svr, y_test)\n",
    "print('\\nTesting SVR RMSE: ', test_scores_svr)\n",
    "print('Testing SVR R2: ', test_r2scores_svr)"
   ]
  },
  {
   "cell_type": "markdown",
   "metadata": {},
   "source": [
    "Given the data provided the Random Forest should be chosen. It has a lower RMSE and a higher R2 score. Moreover, it is much more quicker than the SVR. However, a RMSE around 50 is not so great considering the range of values (20 - 300) we're considering, hence more data should be acquired, for example number of rooms, overall reviews, a better way to capture the descriptions..."
   ]
  },
  {
   "cell_type": "code",
   "execution_count": null,
   "metadata": {},
   "outputs": [],
   "source": []
  }
 ],
 "metadata": {
  "kernelspec": {
   "display_name": "data_science",
   "language": "python",
   "name": "python3"
  },
  "language_info": {
   "codemirror_mode": {
    "name": "ipython",
    "version": 3
   },
   "file_extension": ".py",
   "mimetype": "text/x-python",
   "name": "python",
   "nbconvert_exporter": "python",
   "pygments_lexer": "ipython3",
   "version": "3.10.12"
  },
  "orig_nbformat": 4
 },
 "nbformat": 4,
 "nbformat_minor": 2
}
